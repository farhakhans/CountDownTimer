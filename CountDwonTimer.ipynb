{
  "nbformat": 4,
  "nbformat_minor": 0,
  "metadata": {
    "colab": {
      "provenance": [],
      "authorship_tag": "ABX9TyNpsCR9Fqd9hwyRdGwiC4GL",
      "include_colab_link": true
    },
    "kernelspec": {
      "name": "python3",
      "display_name": "Python 3"
    },
    "language_info": {
      "name": "python"
    }
  },
  "cells": [
    {
      "cell_type": "markdown",
      "metadata": {
        "id": "view-in-github",
        "colab_type": "text"
      },
      "source": [
        "<a href=\"https://colab.research.google.com/github/farhakhans/CountDownTimer/blob/main/CountDwonTimer.ipynb\" target=\"_parent\"><img src=\"https://colab.research.google.com/assets/colab-badge.svg\" alt=\"Open In Colab\"/></a>"
      ]
    },
    {
      "cell_type": "code",
      "source": [
        "import time\n",
        "import numpy as np\n",
        "import matplotlib.pyplot as plt\n",
        "import matplotlib.animation as animation\n",
        "from IPython.display import display, clear_output\n",
        "\n",
        "# Set Timer Duration (Seconds)\n",
        "countdown_time = 10  # Change this for different countdown times\n",
        "\n",
        "# Function to update the countdown\n",
        "def countdown(t):\n",
        "    for i in range(t, -1, -1):\n",
        "        clear_output(wait=True)  # Clear previous output\n",
        "        fig, ax = plt.subplots(figsize=(3, 3))\n",
        "        ax.set_xlim(-1, 1)\n",
        "        ax.set_ylim(-1, 1)\n",
        "        ax.axis(\"off\")\n",
        "\n",
        "        # Display countdown text with animation\n",
        "        ax.text(0, 0, f\"{i}\", fontsize=40, ha=\"center\", va=\"center\", color=\"red\")\n",
        "\n",
        "        display(fig)  # Show updated figure\n",
        "        plt.close(fig)  # Close previous figure\n",
        "        time.sleep(1)  # Wait for 1 second\n",
        "\n",
        "    clear_output(wait=True)\n",
        "    print(\"⏰ Time's Up!\")  # Show alert when countdown ends\n",
        "\n",
        "# Run Countdown\n",
        "countdown(countdown_time)\n"
      ],
      "metadata": {
        "id": "wv4vXhtVHcQB"
      },
      "execution_count": null,
      "outputs": []
    }
  ]
}